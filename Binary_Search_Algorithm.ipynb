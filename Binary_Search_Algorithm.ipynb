{
  "nbformat": 4,
  "nbformat_minor": 0,
  "metadata": {
    "colab": {
      "provenance": [],
      "include_colab_link": true
    },
    "kernelspec": {
      "name": "python3",
      "display_name": "Python 3"
    },
    "language_info": {
      "name": "python"
    }
  },
  "cells": [
    {
      "cell_type": "markdown",
      "metadata": {
        "id": "view-in-github",
        "colab_type": "text"
      },
      "source": [
        "<a href=\"https://colab.research.google.com/github/Afrin-Shaikh/Afrin-Shaikh/blob/main/Binary_Search_Algorithm.ipynb\" target=\"_parent\"><img src=\"https://colab.research.google.com/assets/colab-badge.svg\" alt=\"Open In Colab\"/></a>"
      ]
    },
    {
      "cell_type": "markdown",
      "source": [
        "B**inary Search Program** **bold text**\n",
        "Instructions:\n",
        "\n",
        "Enter the number of elements in the list.\n",
        "\n",
        "*   Input the elements in sorted order (separated by spaces).\n",
        "\n",
        "*   Enter the target element you want to search for.\n",
        "\n",
        "*  The program will return the position of the element (1-based index) or indicate if it's not found.\n",
        "\n",
        "\n",
        "\n"
      ],
      "metadata": {
        "id": "5OLWNWicxik8"
      }
    },
    {
      "cell_type": "code",
      "source": [
        "def binary_search(arr, target):\n",
        "    \"\"\"Performs binary search iteratively.\"\"\"\n",
        "    left, right = 0, len(arr) - 1\n",
        "\n",
        "    while left <= right:\n",
        "        mid = (left + right) // 2\n",
        "\n",
        "        if arr[mid] == target:\n",
        "            return mid + 1  # Return 1-based index\n",
        "        elif arr[mid] < target:\n",
        "            left = mid + 1\n",
        "        else:\n",
        "            right = mid - 1\n",
        "\n",
        "    return -1  # Element not found\n",
        "\n",
        "# Taking input efficiently\n",
        "n = int(input(\"Enter number of elements: \"))\n",
        "arr = list(map(int, input(\"Enter sorted numbers: \").split()))\n",
        "target = int(input(\"Enter number to search: \"))\n",
        "\n",
        "# Ensure the list is sorted\n",
        "arr.sort()\n",
        "\n",
        "# Perform binary search\n",
        "position = binary_search(arr, target)\n",
        "\n",
        "# Display 2result\n",
        "if position == -1:\n",
        "    print(\"Element not found.\")\n",
        "else:\n",
        "    print(f\"Element found at position: {position}\")"
      ],
      "metadata": {
        "colab": {
          "base_uri": "https://localhost:8080/"
        },
        "id": "LqMUrFcnr_IZ",
        "outputId": "af1da428-5a95-4ce6-abe0-f5616514a74d"
      },
      "execution_count": 20,
      "outputs": [
        {
          "output_type": "stream",
          "name": "stdout",
          "text": [
            "Enter number of elements: 2\n",
            "Enter sorted numbers: 2\n",
            "Enter number to search: 2\n",
            "Element found at position: 1\n"
          ]
        }
      ]
    },
    {
      "cell_type": "code",
      "source": [],
      "metadata": {
        "id": "W2Hqe_cdyc1T"
      },
      "execution_count": null,
      "outputs": []
    }
  ]
}